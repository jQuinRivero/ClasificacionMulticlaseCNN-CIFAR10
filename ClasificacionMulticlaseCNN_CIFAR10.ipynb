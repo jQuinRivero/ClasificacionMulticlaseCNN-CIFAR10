{
  "nbformat": 4,
  "nbformat_minor": 0,
  "metadata": {
    "colab": {
      "name": "ClasificacionMulticlaseCNN-CIFAR10.ipynb",
      "provenance": []
    },
    "kernelspec": {
      "name": "python3",
      "display_name": "Python 3"
    }
  },
  "cells": [
    {
      "cell_type": "markdown",
      "metadata": {
        "id": "tw2LW5monuAr",
        "colab_type": "text"
      },
      "source": [
        "#Proyecto de clasificación utilizando CNN - MNIST\n",
        "###Datos del proyecto\n",
        "Dataset: CIFAR10, a través de Keras\n",
        "\n",
        "Descripción del dataset: 60000 imágenes en color, de 32x32 px\n",
        "\n",
        "Objetivo: utilizar redes neuronales convolucionales para lograr clasificar las imágenes\n",
        "\n",
        "Tipo de problema: clasificación multiclase"
      ]
    },
    {
      "cell_type": "code",
      "metadata": {
        "id": "ln4WQLh-QAtj",
        "colab_type": "code",
        "colab": {}
      },
      "source": [
        "import numpy as np\n",
        "import matplotlib.pyplot as plt\n",
        "import pandas as pd \n",
        "import seaborn as sns"
      ],
      "execution_count": 57,
      "outputs": []
    },
    {
      "cell_type": "code",
      "metadata": {
        "id": "IvHElzB3T6-V",
        "colab_type": "code",
        "colab": {}
      },
      "source": [
        "from tensorflow.keras.datasets import cifar10"
      ],
      "execution_count": 2,
      "outputs": []
    },
    {
      "cell_type": "code",
      "metadata": {
        "id": "u6roX2ZrUFa4",
        "colab_type": "code",
        "colab": {
          "base_uri": "https://localhost:8080/",
          "height": 50
        },
        "outputId": "0f955ca3-d5bf-4927-850f-aae54cddd5f9"
      },
      "source": [
        "(X_train, y_train),(X_test, y_test) = cifar10.load_data()"
      ],
      "execution_count": 3,
      "outputs": [
        {
          "output_type": "stream",
          "text": [
            "Downloading data from https://www.cs.toronto.edu/~kriz/cifar-10-python.tar.gz\n",
            "170500096/170498071 [==============================] - 2s 0us/step\n"
          ],
          "name": "stdout"
        }
      ]
    },
    {
      "cell_type": "code",
      "metadata": {
        "id": "unpgU0Inru6W",
        "colab_type": "code",
        "colab": {
          "base_uri": "https://localhost:8080/",
          "height": 34
        },
        "outputId": "1ef2f8ae-0cf4-455e-b7c6-369e3d48c7e5"
      },
      "source": [
        "X_train.shape"
      ],
      "execution_count": 62,
      "outputs": [
        {
          "output_type": "execute_result",
          "data": {
            "text/plain": [
              "(50000, 32, 32, 3)"
            ]
          },
          "metadata": {
            "tags": []
          },
          "execution_count": 62
        }
      ]
    },
    {
      "cell_type": "code",
      "metadata": {
        "id": "ZknRiR3lryZM",
        "colab_type": "code",
        "colab": {
          "base_uri": "https://localhost:8080/",
          "height": 34
        },
        "outputId": "efe4f085-fe79-4948-f7c8-101125508720"
      },
      "source": [
        "X_test.shape"
      ],
      "execution_count": 63,
      "outputs": [
        {
          "output_type": "execute_result",
          "data": {
            "text/plain": [
              "(10000, 32, 32, 3)"
            ]
          },
          "metadata": {
            "tags": []
          },
          "execution_count": 63
        }
      ]
    },
    {
      "cell_type": "code",
      "metadata": {
        "id": "q8QjiCZlXQZN",
        "colab_type": "code",
        "colab": {
          "base_uri": "https://localhost:8080/",
          "height": 283
        },
        "outputId": "9ff3b027-73c2-4cf5-d852-4abd5e2dd90f"
      },
      "source": [
        "plt.imshow(X_train[45])"
      ],
      "execution_count": 7,
      "outputs": [
        {
          "output_type": "execute_result",
          "data": {
            "text/plain": [
              "<matplotlib.image.AxesImage at 0x7f516c3810f0>"
            ]
          },
          "metadata": {
            "tags": []
          },
          "execution_count": 7
        },
        {
          "output_type": "display_data",
          "data": {
            "image/png": "[encoded data removed]",
            "text/plain": [
              "<Figure size 432x288 with 1 Axes>"
            ]
          },
          "metadata": {
            "tags": [],
            "needs_background": "light"
          }
        }
      ]
    },
    {
      "cell_type": "code",
      "metadata": {
        "id": "OOn6cKKBXq-v",
        "colab_type": "code",
        "colab": {
          "base_uri": "https://localhost:8080/",
          "height": 34
        },
        "outputId": "6323b76a-92a8-4d3c-daa2-e3b49a410289"
      },
      "source": [
        "X_train.max()"
      ],
      "execution_count": 8,
      "outputs": [
        {
          "output_type": "execute_result",
          "data": {
            "text/plain": [
              "255"
            ]
          },
          "metadata": {
            "tags": []
          },
          "execution_count": 8
        }
      ]
    },
    {
      "cell_type": "markdown",
      "metadata": {
        "id": "yrFkDyywaiEd",
        "colab_type": "text"
      },
      "source": [
        "Normalización"
      ]
    },
    {
      "cell_type": "code",
      "metadata": {
        "id": "Dg2k_IaqaJg-",
        "colab_type": "code",
        "colab": {}
      },
      "source": [
        "X_train = X_train / 255"
      ],
      "execution_count": 9,
      "outputs": []
    },
    {
      "cell_type": "code",
      "metadata": {
        "id": "z5rmrcrKaQzS",
        "colab_type": "code",
        "colab": {}
      },
      "source": [
        "X_test = X_test / 255"
      ],
      "execution_count": 10,
      "outputs": []
    },
    {
      "cell_type": "markdown",
      "metadata": {
        "id": "YDyhT1PMaokb",
        "colab_type": "text"
      },
      "source": [
        "Manejo de valores categóricos"
      ]
    },
    {
      "cell_type": "code",
      "metadata": {
        "id": "n4YqHwxbaWA4",
        "colab_type": "code",
        "colab": {}
      },
      "source": [
        "from tensorflow.keras.utils import to_categorical"
      ],
      "execution_count": 12,
      "outputs": []
    },
    {
      "cell_type": "code",
      "metadata": {
        "id": "yts60b3NbbCq",
        "colab_type": "code",
        "colab": {
          "base_uri": "https://localhost:8080/",
          "height": 34
        },
        "outputId": "bf0b6fc0-8e6f-470a-f317-7b1b7f60c786"
      },
      "source": [
        "np.unique(y_train)"
      ],
      "execution_count": 28,
      "outputs": [
        {
          "output_type": "execute_result",
          "data": {
            "text/plain": [
              "array([0, 1, 2, 3, 4, 5, 6, 7, 8, 9], dtype=uint8)"
            ]
          },
          "metadata": {
            "tags": []
          },
          "execution_count": 28
        }
      ]
    },
    {
      "cell_type": "code",
      "metadata": {
        "id": "jfeYSqqwaeG0",
        "colab_type": "code",
        "colab": {}
      },
      "source": [
        "y_train_encodeado = to_categorical(y_train, num_classes= 10)"
      ],
      "execution_count": 29,
      "outputs": []
    },
    {
      "cell_type": "code",
      "metadata": {
        "id": "Q9SjPfiFcFaU",
        "colab_type": "code",
        "colab": {}
      },
      "source": [
        "y_test_encodeado = to_categorical(y_test, num_classes= 10)"
      ],
      "execution_count": 30,
      "outputs": []
    },
    {
      "cell_type": "markdown",
      "metadata": {
        "id": "F3zp0CO0cXx-",
        "colab_type": "text"
      },
      "source": [
        "Creación del modelo"
      ]
    },
    {
      "cell_type": "code",
      "metadata": {
        "id": "CJ7U3j34cL0v",
        "colab_type": "code",
        "colab": {}
      },
      "source": [
        "from tensorflow.keras.models import Sequential\n",
        "from tensorflow.keras.layers import Dense, Conv2D, MaxPool2D, Flatten\n",
        "from tensorflow.keras.optimizers import Adagrad"
      ],
      "execution_count": 33,
      "outputs": []
    },
    {
      "cell_type": "code",
      "metadata": {
        "id": "pQiOYPVac4WR",
        "colab_type": "code",
        "colab": {
          "base_uri": "https://localhost:8080/",
          "height": 34
        },
        "outputId": "0d969f60-fbe9-49f4-a5b0-ac37afd7e030"
      },
      "source": [
        "X_train[0].shape"
      ],
      "execution_count": 34,
      "outputs": [
        {
          "output_type": "execute_result",
          "data": {
            "text/plain": [
              "(32, 32, 3)"
            ]
          },
          "metadata": {
            "tags": []
          },
          "execution_count": 34
        }
      ]
    },
    {
      "cell_type": "code",
      "metadata": {
        "id": "6XAvA-NIcj57",
        "colab_type": "code",
        "colab": {}
      },
      "source": [
        "modelo = Sequential()\n",
        "\n",
        "modelo.add(Conv2D(filters=32, kernel_size=(4,4), input_shape = (32,32,3), activation=\"relu\"))\n",
        "modelo.add(MaxPool2D(pool_size=(2,2)))\n",
        "\n",
        "modelo.add(Conv2D(filters=48, kernel_size=(4,4), input_shape = (32,32,3), activation=\"relu\"))\n",
        "modelo.add(MaxPool2D(pool_size=(2,2)))\n",
        "\n",
        "modelo.add(Flatten())\n",
        "\n",
        "modelo.add(Dense(units=256, activation=\"relu\"))\n",
        "\n",
        "modelo.add(Dense(units=10, activation=\"softmax\"))\n",
        "\n",
        "modelo.compile(loss=\"categorical_crossentropy\", optimizer=\"adagrad\")"
      ],
      "execution_count": 41,
      "outputs": []
    },
    {
      "cell_type": "code",
      "metadata": {
        "id": "d58fqWeleQGN",
        "colab_type": "code",
        "colab": {}
      },
      "source": [
        "from tensorflow.keras.callbacks import EarlyStopping"
      ],
      "execution_count": 42,
      "outputs": []
    },
    {
      "cell_type": "code",
      "metadata": {
        "id": "7qYEeMVBeWQZ",
        "colab_type": "code",
        "colab": {}
      },
      "source": [
        "early_stop = EarlyStopping(monitor=\"val_loss\", patience=2)"
      ],
      "execution_count": 43,
      "outputs": []
    },
    {
      "cell_type": "code",
      "metadata": {
        "id": "DP2JlMWbeXqN",
        "colab_type": "code",
        "colab": {
          "base_uri": "https://localhost:8080/",
          "height": 1000
        },
        "outputId": "2cf2647b-41e1-4f2d-da61-260b437603a5"
      },
      "source": [
        "modelo.fit(X_train, y_train_encodeado, epochs=40, validation_data=(X_test, y_test_encodeado), callbacks=[early_stop])"
      ],
      "execution_count": 44,
      "outputs": [
        {
          "output_type": "stream",
          "text": [
            "Epoch 1/40\n",
            "1563/1563 [==============================] - 66s 42ms/step - loss: 1.7666 - val_loss: 1.6484\n",
            "Epoch 2/40\n",
            "1563/1563 [==============================] - 65s 42ms/step - loss: 1.6049 - val_loss: 1.5681\n",
            "Epoch 3/40\n",
            "1563/1563 [==============================] - 65s 42ms/step - loss: 1.5418 - val_loss: 1.5227\n",
            "Epoch 4/40\n",
            "1563/1563 [==============================] - 65s 41ms/step - loss: 1.5023 - val_loss: 1.4915\n",
            "Epoch 5/40\n",
            "1563/1563 [==============================] - 65s 42ms/step - loss: 1.4737 - val_loss: 1.4686\n",
            "Epoch 6/40\n",
            "1563/1563 [==============================] - 65s 42ms/step - loss: 1.4514 - val_loss: 1.4536\n",
            "Epoch 7/40\n",
            "1563/1563 [==============================] - 65s 42ms/step - loss: 1.4332 - val_loss: 1.4349\n",
            "Epoch 8/40\n",
            "1563/1563 [==============================] - 66s 42ms/step - loss: 1.4182 - val_loss: 1.4206\n",
            "Epoch 9/40\n",
            "1563/1563 [==============================] - 66s 42ms/step - loss: 1.4047 - val_loss: 1.4180\n",
            "Epoch 10/40\n",
            "1563/1563 [==============================] - 66s 42ms/step - loss: 1.3937 - val_loss: 1.4001\n",
            "Epoch 11/40\n",
            "1563/1563 [==============================] - 66s 43ms/step - loss: 1.3829 - val_loss: 1.3924\n",
            "Epoch 12/40\n",
            "1563/1563 [==============================] - 66s 42ms/step - loss: 1.3739 - val_loss: 1.3815\n",
            "Epoch 13/40\n",
            "1563/1563 [==============================] - 67s 43ms/step - loss: 1.3653 - val_loss: 1.3740\n",
            "Epoch 14/40\n",
            "1563/1563 [==============================] - 67s 43ms/step - loss: 1.3574 - val_loss: 1.3709\n",
            "Epoch 15/40\n",
            "1563/1563 [==============================] - 67s 43ms/step - loss: 1.3501 - val_loss: 1.3614\n",
            "Epoch 16/40\n",
            "1563/1563 [==============================] - 67s 43ms/step - loss: 1.3431 - val_loss: 1.3568\n",
            "Epoch 17/40\n",
            "1563/1563 [==============================] - 66s 42ms/step - loss: 1.3366 - val_loss: 1.3488\n",
            "Epoch 18/40\n",
            "1563/1563 [==============================] - 66s 42ms/step - loss: 1.3302 - val_loss: 1.3500\n",
            "Epoch 19/40\n",
            "1563/1563 [==============================] - 66s 42ms/step - loss: 1.3244 - val_loss: 1.3390\n",
            "Epoch 20/40\n",
            "1563/1563 [==============================] - 66s 43ms/step - loss: 1.3186 - val_loss: 1.3350\n",
            "Epoch 21/40\n",
            "1563/1563 [==============================] - 66s 42ms/step - loss: 1.3134 - val_loss: 1.3306\n",
            "Epoch 22/40\n",
            "1563/1563 [==============================] - 67s 43ms/step - loss: 1.3083 - val_loss: 1.3233\n",
            "Epoch 23/40\n",
            "1563/1563 [==============================] - 66s 42ms/step - loss: 1.3033 - val_loss: 1.3198\n",
            "Epoch 24/40\n",
            "1563/1563 [==============================] - 66s 42ms/step - loss: 1.2989 - val_loss: 1.3174\n",
            "Epoch 25/40\n",
            "1563/1563 [==============================] - 67s 43ms/step - loss: 1.2943 - val_loss: 1.3120\n",
            "Epoch 26/40\n",
            "1563/1563 [==============================] - 66s 42ms/step - loss: 1.2899 - val_loss: 1.3094\n",
            "Epoch 27/40\n",
            "1563/1563 [==============================] - 67s 43ms/step - loss: 1.2855 - val_loss: 1.3081\n",
            "Epoch 28/40\n",
            "1563/1563 [==============================] - 66s 42ms/step - loss: 1.2815 - val_loss: 1.3021\n",
            "Epoch 29/40\n",
            "1563/1563 [==============================] - 67s 43ms/step - loss: 1.2775 - val_loss: 1.2974\n",
            "Epoch 30/40\n",
            "1563/1563 [==============================] - 66s 43ms/step - loss: 1.2739 - val_loss: 1.2942\n",
            "Epoch 31/40\n",
            "1563/1563 [==============================] - 66s 42ms/step - loss: 1.2698 - val_loss: 1.2923\n",
            "Epoch 32/40\n",
            "1563/1563 [==============================] - 67s 43ms/step - loss: 1.2664 - val_loss: 1.2885\n",
            "Epoch 33/40\n",
            "1563/1563 [==============================] - 67s 43ms/step - loss: 1.2629 - val_loss: 1.2844\n",
            "Epoch 34/40\n",
            "1563/1563 [==============================] - 67s 43ms/step - loss: 1.2596 - val_loss: 1.2821\n",
            "Epoch 35/40\n",
            "1563/1563 [==============================] - 67s 43ms/step - loss: 1.2561 - val_loss: 1.2787\n",
            "Epoch 36/40\n",
            "1563/1563 [==============================] - 67s 43ms/step - loss: 1.2529 - val_loss: 1.2757\n",
            "Epoch 37/40\n",
            "1563/1563 [==============================] - 67s 43ms/step - loss: 1.2493 - val_loss: 1.2729\n",
            "Epoch 38/40\n",
            "1563/1563 [==============================] - 67s 43ms/step - loss: 1.2466 - val_loss: 1.2693\n",
            "Epoch 39/40\n",
            "1563/1563 [==============================] - 67s 43ms/step - loss: 1.2433 - val_loss: 1.2660\n",
            "Epoch 40/40\n",
            "1563/1563 [==============================] - 67s 43ms/step - loss: 1.2406 - val_loss: 1.2666\n"
          ],
          "name": "stdout"
        },
        {
          "output_type": "execute_result",
          "data": {
            "text/plain": [
              "<tensorflow.python.keras.callbacks.History at 0x7f5163a36be0>"
            ]
          },
          "metadata": {
            "tags": []
          },
          "execution_count": 44
        }
      ]
    },
    {
      "cell_type": "code",
      "metadata": {
        "id": "VwGeacZ8e0K7",
        "colab_type": "code",
        "colab": {}
      },
      "source": [
        "losses = pd.DataFrame(modelo.history.history)"
      ],
      "execution_count": 45,
      "outputs": []
    },
    {
      "cell_type": "code",
      "metadata": {
        "id": "-UQHL3hUpX35",
        "colab_type": "code",
        "colab": {
          "base_uri": "https://localhost:8080/",
          "height": 282
        },
        "outputId": "27bf06c2-e078-4c28-cf03-dc0cb78bba63"
      },
      "source": [
        "losses.plot()"
      ],
      "execution_count": 46,
      "outputs": [
        {
          "output_type": "execute_result",
          "data": {
            "text/plain": [
              "<matplotlib.axes._subplots.AxesSubplot at 0x7f515f30dba8>"
            ]
          },
          "metadata": {
            "tags": []
          },
          "execution_count": 46
        },
        {
          "output_type": "display_data",
          "data": {
            "image/png": "[encoded data removed]",
            "text/plain": [
              "<Figure size 432x288 with 1 Axes>"
            ]
          },
          "metadata": {
            "tags": [],
            "needs_background": "light"
          }
        }
      ]
    },
    {
      "cell_type": "code",
      "metadata": {
        "id": "sMXmHHScpfCT",
        "colab_type": "code",
        "colab": {}
      },
      "source": [
        "from sklearn.metrics import confusion_matrix,classification_report"
      ],
      "execution_count": 48,
      "outputs": []
    },
    {
      "cell_type": "code",
      "metadata": {
        "id": "tfCEEupRprHt",
        "colab_type": "code",
        "colab": {
          "base_uri": "https://localhost:8080/",
          "height": 87
        },
        "outputId": "0282ef41-032a-440c-abe8-aca177e35629"
      },
      "source": [
        "predictions = modelo.predict_classes(X_test)"
      ],
      "execution_count": 55,
      "outputs": [
        {
          "output_type": "stream",
          "text": [
            "WARNING:tensorflow:From <ipython-input-55-8e4c4d950d7a>:1: Sequential.predict_classes (from tensorflow.python.keras.engine.sequential) is deprecated and will be removed after 2021-01-01.\n",
            "Instructions for updating:\n",
            "Please use instead:* `np.argmax(model.predict(x), axis=-1)`,   if your model does multi-class classification   (e.g. if it uses a `softmax` last-layer activation).* `(model.predict(x) > 0.5).astype(\"int32\")`,   if your model does binary classification   (e.g. if it uses a `sigmoid` last-layer activation).\n"
          ],
          "name": "stdout"
        }
      ]
    },
    {
      "cell_type": "code",
      "metadata": {
        "id": "pHiaHzsTp7z2",
        "colab_type": "code",
        "colab": {
          "base_uri": "https://localhost:8080/",
          "height": 391
        },
        "outputId": "1ed0785b-c304-4506-c579-0ed0f3730346"
      },
      "source": [
        "matriz = confusion_matrix(y_test, predictions)\n",
        "\n",
        "plt.figure(figsize=(12,6))\n",
        "sns.heatmap(matriz, cmap=\"RdYlBu\", annot=True)"
      ],
      "execution_count": 60,
      "outputs": [
        {
          "output_type": "execute_result",
          "data": {
            "text/plain": [
              "<matplotlib.axes._subplots.AxesSubplot at 0x7f516c898a20>"
            ]
          },
          "metadata": {
            "tags": []
          },
          "execution_count": 60
        },
        {
          "output_type": "display_data",
          "data": {
            "image/png": "[encoded data removed]",
            "text/plain": [
              "<Figure size 864x432 with 2 Axes>"
            ]
          },
          "metadata": {
            "tags": [],
            "needs_background": "light"
          }
        }
      ]
    },
    {
      "cell_type": "code",
      "metadata": {
        "id": "pGbxidK_p_ip",
        "colab_type": "code",
        "colab": {
          "base_uri": "https://localhost:8080/",
          "height": 302
        },
        "outputId": "5ffed455-71d5-49f8-c22e-e0236b6f2d8f"
      },
      "source": [
        "print(classification_report(y_test, predictions))"
      ],
      "execution_count": 61,
      "outputs": [
        {
          "output_type": "stream",
          "text": [
            "              precision    recall  f1-score   support\n",
            "\n",
            "           0       0.60      0.59      0.59      1000\n",
            "           1       0.69      0.66      0.67      1000\n",
            "           2       0.49      0.36      0.42      1000\n",
            "           3       0.38      0.36      0.37      1000\n",
            "           4       0.49      0.52      0.50      1000\n",
            "           5       0.48      0.53      0.50      1000\n",
            "           6       0.59      0.69      0.64      1000\n",
            "           7       0.61      0.61      0.61      1000\n",
            "           8       0.62      0.66      0.64      1000\n",
            "           9       0.62      0.60      0.61      1000\n",
            "\n",
            "    accuracy                           0.56     10000\n",
            "   macro avg       0.56      0.56      0.56     10000\n",
            "weighted avg       0.56      0.56      0.56     10000\n",
            "\n"
          ],
          "name": "stdout"
        }
      ]
    }
  ]
}